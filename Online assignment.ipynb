{
 "cells": [
  {
   "cell_type": "code",
   "execution_count": 1,
   "id": "30cae91f",
   "metadata": {},
   "outputs": [],
   "source": [
    "import numpy as np"
   ]
  },
  {
   "cell_type": "code",
   "execution_count": 2,
   "id": "9214baea",
   "metadata": {},
   "outputs": [
    {
     "data": {
      "text/plain": [
       "array([1, 2, 3, 4, 4])"
      ]
     },
     "execution_count": 2,
     "metadata": {},
     "output_type": "execute_result"
    }
   ],
   "source": [
    "#1\n",
    "list1 = [1,2,3,4,4]\n",
    "arr1 = np.array(list1)\n",
    "arr1"
   ]
  },
  {
   "cell_type": "code",
   "execution_count": 5,
   "id": "8d15017c",
   "metadata": {},
   "outputs": [
    {
     "data": {
      "text/plain": [
       "array([[13, 12, 14, 12],\n",
       "       [ 8, 15, 14, 14],\n",
       "       [12, 11, 15, 15],\n",
       "       [13, 11,  8, 14]])"
      ]
     },
     "execution_count": 5,
     "metadata": {},
     "output_type": "execute_result"
    }
   ],
   "source": [
    "#2\n",
    "arr2 = np.random.randint(7,16,16)\n",
    "arr2.reshape(4,4)"
   ]
  },
  {
   "cell_type": "code",
   "execution_count": 7,
   "id": "6f49011e",
   "metadata": {},
   "outputs": [
    {
     "data": {
      "text/plain": [
       "array([ 0.,  0.,  0.,  0.,  0., 11.,  0.,  0.,  0.,  0.])"
      ]
     },
     "execution_count": 7,
     "metadata": {},
     "output_type": "execute_result"
    }
   ],
   "source": [
    "#3\n",
    "arr3 = np.zeros(10)\n",
    "arr3[5]=11\n",
    "arr3"
   ]
  },
  {
   "cell_type": "code",
   "execution_count": 8,
   "id": "0a65044b",
   "metadata": {
    "scrolled": true
   },
   "outputs": [
    {
     "data": {
      "text/plain": [
       "array([7, 6, 5, 4, 3, 2, 1])"
      ]
     },
     "execution_count": 8,
     "metadata": {},
     "output_type": "execute_result"
    }
   ],
   "source": [
    "#4\n",
    "arr4 = np.array([1,2,3,4,5,6,7])\n",
    "result = arr4[::-1]\n",
    "result"
   ]
  },
  {
   "cell_type": "code",
   "execution_count": 41,
   "id": "ae8ce00b",
   "metadata": {},
   "outputs": [
    {
     "data": {
      "text/plain": [
       "array([[1., 1., 1., 1., 1.],\n",
       "       [1., 0., 0., 0., 1.],\n",
       "       [1., 0., 0., 0., 1.],\n",
       "       [1., 0., 0., 0., 1.],\n",
       "       [1., 1., 1., 1., 1.]])"
      ]
     },
     "execution_count": 41,
     "metadata": {},
     "output_type": "execute_result"
    }
   ],
   "source": [
    "#5 dim=5,5\n",
    "arr5 = np.ones((5,5))\n",
    "arr5[1:-1,1:-1]=0\n",
    "arr5"
   ]
  },
  {
   "cell_type": "code",
   "execution_count": null,
   "id": "b5da875e",
   "metadata": {},
   "outputs": [],
   "source": [
    "#6"
   ]
  },
  {
   "cell_type": "code",
   "execution_count": 12,
   "id": "85d52e30",
   "metadata": {},
   "outputs": [
    {
     "data": {
      "text/plain": [
       "array([  1,   2,   3,   4,   5,   6,   7,   8,   9, 200])"
      ]
     },
     "execution_count": 12,
     "metadata": {},
     "output_type": "execute_result"
    }
   ],
   "source": [
    "#7\n",
    "arr7 = np.arange(1,10)\n",
    "arr7= np.append(arr7,[200])\n",
    "arr7"
   ]
  },
  {
   "cell_type": "code",
   "execution_count": 16,
   "id": "6bd066f0",
   "metadata": {},
   "outputs": [
    {
     "data": {
      "text/plain": [
       "array([136.4, 165.2, 190.4,  96.8, 131. ])"
      ]
     },
     "execution_count": 16,
     "metadata": {},
     "output_type": "execute_result"
    }
   ],
   "source": [
    "#8\n",
    "arr8 = np.random.randint(1,100,5) # celcius\n",
    "farenhite = arr8*1.8 +32\n",
    "farenhite"
   ]
  },
  {
   "cell_type": "code",
   "execution_count": 18,
   "id": "c4ef5a49",
   "metadata": {},
   "outputs": [
    {
     "data": {
      "text/plain": [
       "6"
      ]
     },
     "execution_count": 18,
     "metadata": {},
     "output_type": "execute_result"
    }
   ],
   "source": [
    "#9\n",
    "arr9 = np.array([[1,2,3],[4,5,6]])\n",
    "size = arr9.size"
   ]
  },
  {
   "cell_type": "code",
   "execution_count": 50,
   "id": "489bcad9",
   "metadata": {},
   "outputs": [
    {
     "data": {
      "text/plain": [
       "[4, 5, 6]"
      ]
     },
     "execution_count": 50,
     "metadata": {},
     "output_type": "execute_result"
    }
   ],
   "source": [
    "#10\n",
    "same = []\n",
    "arr10 = np.array([2,4,5,6,7,8,9,9])\n",
    "arr10_2 = np.array([6,4,3,3,5,6])\n",
    "\n",
    "for ele in arr10:\n",
    "    if ele in arr10_2:\n",
    "        same.append(ele)\n",
    "same"
   ]
  },
  {
   "cell_type": "code",
   "execution_count": 23,
   "id": "4a60a307",
   "metadata": {},
   "outputs": [],
   "source": [
    "#11\n",
    "arr11_ones = np.ones((2,2))\n",
    "arr11_zeros = np.zeros((2,2))"
   ]
  },
  {
   "cell_type": "code",
   "execution_count": 27,
   "id": "7af2a873",
   "metadata": {},
   "outputs": [
    {
     "data": {
      "text/plain": [
       "array([[40, 32,  7,  3],\n",
       "       [64, 59, 17,  1],\n",
       "       [17, 59, 85, 88],\n",
       "       [ 8, 76, 30, 35]])"
      ]
     },
     "execution_count": 27,
     "metadata": {},
     "output_type": "execute_result"
    }
   ],
   "source": [
    "#12\n",
    "arr12 = np.random.randint(1,100,16)\n",
    "result = arr12.reshape(4,4)\n",
    "result"
   ]
  },
  {
   "cell_type": "code",
   "execution_count": 30,
   "id": "6902f939",
   "metadata": {},
   "outputs": [
    {
     "data": {
      "text/plain": [
       "array([2., 3., 5., 3., 6., 6., 7.])"
      ]
     },
     "execution_count": 30,
     "metadata": {},
     "output_type": "execute_result"
    }
   ],
   "source": [
    "#13\n",
    "example = np.array([2,3,5,3,6,6,7])\n",
    "arr13 = np.array(example , dtype = float )\n",
    "arr13"
   ]
  },
  {
   "cell_type": "code",
   "execution_count": 31,
   "id": "6ee1d587",
   "metadata": {},
   "outputs": [
    {
     "data": {
      "text/plain": [
       "array([[2., 2., 2., 2., 2.],\n",
       "       [2., 2., 2., 2., 2.],\n",
       "       [2., 2., 2., 2., 2.]])"
      ]
     },
     "execution_count": 31,
     "metadata": {},
     "output_type": "execute_result"
    }
   ],
   "source": [
    "#14\n",
    "arr14 = np.ones((3,5))\n",
    "result = arr14*2\n",
    "result.reshape(3,5)"
   ]
  },
  {
   "cell_type": "code",
   "execution_count": 34,
   "id": "d22ab888",
   "metadata": {},
   "outputs": [
    {
     "data": {
      "text/plain": [
       "(2, 4, 4)"
      ]
     },
     "execution_count": 34,
     "metadata": {},
     "output_type": "execute_result"
    }
   ],
   "source": [
    "#15\n",
    "arr15_1 = np.eye(4)\n",
    "arr15_2 = np.eye(4)\n",
    "arr15 = np.array([arr15_1,arr15_2])\n",
    "arr15.shape"
   ]
  },
  {
   "cell_type": "code",
   "execution_count": 56,
   "id": "7c73390a",
   "metadata": {},
   "outputs": [
    {
     "data": {
      "text/plain": [
       "array([0.69314718, 0.76913309, 0.83975065, 0.90570862, 0.96758403,\n",
       "       1.02585293, 1.08091271, 1.13309846, 1.18269541, 1.22994829,\n",
       "       1.27506873, 1.3182409 , 1.35962611, 1.39936644, 1.43758766,\n",
       "       1.47440163, 1.50990832, 1.54419739, 1.5773496 , 1.60943791])"
      ]
     },
     "execution_count": 56,
     "metadata": {},
     "output_type": "execute_result"
    }
   ],
   "source": [
    "#16\n",
    "arr16 = np.linspace(2,5,20)\n",
    "arr16_result = np.log(arr16)\n",
    "arr16_result"
   ]
  },
  {
   "cell_type": "code",
   "execution_count": 47,
   "id": "2be9c2d4",
   "metadata": {},
   "outputs": [
    {
     "data": {
      "text/plain": [
       "6"
      ]
     },
     "execution_count": 47,
     "metadata": {},
     "output_type": "execute_result"
    }
   ],
   "source": [
    "#17\n",
    "non_zero = 0\n",
    "arr17 = np.array([1,3,7,0,0,0,0,4,2,4,0,0,0])\n",
    "result = arr17[(arr17 != 0)]\n",
    "result.size\n",
    "# for ele in arr17:\n",
    "#     if ele!=0:\n",
    "#         non_zero+=1\n",
    "# non_zero"
   ]
  },
  {
   "cell_type": "code",
   "execution_count": 45,
   "id": "f0238fb6",
   "metadata": {},
   "outputs": [
    {
     "data": {
      "text/plain": [
       "2318"
      ]
     },
     "execution_count": 45,
     "metadata": {},
     "output_type": "execute_result"
    }
   ],
   "source": [
    "#18\n",
    "sum_num = 0\n",
    "arr18 = np.arange(1,100)\n",
    "# for ele in arr18:\n",
    "#     if ele%3==0 or ele%5==0:\n",
    "#         sum_num+=ele\n",
    "# sum_num\n",
    "result = arr18[(arr18%3==0) | (arr18%5==0)]\n",
    "result.sum()\n"
   ]
  }
 ],
 "metadata": {
  "kernelspec": {
   "display_name": "Python 3 (ipykernel)",
   "language": "python",
   "name": "python3"
  },
  "language_info": {
   "codemirror_mode": {
    "name": "ipython",
    "version": 3
   },
   "file_extension": ".py",
   "mimetype": "text/x-python",
   "name": "python",
   "nbconvert_exporter": "python",
   "pygments_lexer": "ipython3",
   "version": "3.9.12"
  }
 },
 "nbformat": 4,
 "nbformat_minor": 5
}
